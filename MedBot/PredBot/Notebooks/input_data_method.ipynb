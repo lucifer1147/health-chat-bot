{
 "cells": [
  {
   "cell_type": "code",
   "execution_count": 1,
   "id": "initial_id",
   "metadata": {
    "collapsed": true,
    "ExecuteTime": {
     "end_time": "2023-09-30T08:45:01.404582900Z",
     "start_time": "2023-09-30T08:44:59.292938Z"
    }
   },
   "outputs": [],
   "source": [
    "import pandas as pd\n",
    "import pickle as pkl"
   ]
  },
  {
   "cell_type": "code",
   "execution_count": 69,
   "outputs": [],
   "source": [
    "# import pickle\n",
    "# \n",
    "# with open('../pickles/symptoms.pkl', 'rb') as fl:\n",
    "#     symptoms_li = pickle.load(fl)\n",
    "\n",
    "related_symptoms = {\n",
    "    'skin': ['itching', 'skin rash', 'nodal skin eruptions', 'swollen blood vessels', 'drying and tingling lips', 'slurred speech', 'dyschromic patches', 'pus filled pimples', 'blackheads', 'skin peeling', 'blister'],\n",
    "    'uncategorised': ['continuous sneezing', 'vomiting', 'cough', 'high fever', 'breathlessness', 'shivering', 'dehydration', 'sweating', 'nausea', 'mild fever', 'fluid overload', 'ulcers on tongue', 'abnormal menstruation', 'fluid overload'],\n",
    "    'uncategorisedV2': ['phlegm', 'mucoid sputum', 'rusty sputum', 'blood in sputum'],\n",
    "    'body': ['shivering', 'chills', 'weight gain', 'weight loss', 'headache', 'yellowish skin', 'back pain', 'cramps', 'bruising', 'weakness of one body side', 'internal itching', 'red spots over body'],\n",
    "    'nails': ['small dents in nails', 'brittle nails', 'inflammatory nails'],\n",
    "    'movement': ['loss of balance', 'unsteadiness', 'spinning movements', 'altered sensorium', 'painful walking', 'scurrying'],\n",
    "    'muscles/joints': ['joint pain', 'muscle wasting', 'fatigue', 'muscle weakness', 'swelling joints', 'muscle pain'],\n",
    "    'abdomen': ['stomach pain', 'acidity', 'indigestion', 'acute liver failure', 'abdominal pain', 'swelling of stomach', 'chest pain', 'fast heart rate', 'obesity', 'belly pain', 'stomach bleeding', 'distention of abdomen'],\n",
    "    'eyes': ['sunken eyes', 'pain behind the eyes', 'yellowing of eyes', 'blurred and distorted vision', 'redness of eyes', 'puffy face and eyes', 'watering from eyes', 'visual disturbances'],\n",
    "    'limbs': ['swollen extremeties', 'cold hands and feets', 'weakness in limbs', 'knee pain', 'movement stiffness', 'swollen legs', 'prominent veins on calf'],\n",
    "    'facese': ['constipation', 'diarrhea', 'pain during bowel movements', 'pain in anal region', 'bloody stool', 'irritation in anus', 'hip joint pain', 'passage of gases'],\n",
    "    'urine': ['burning micturition', 'spotting urination', 'dark urine', 'yellow urine', 'bladder discomfort', 'foul smell of urine', 'continuous feel of urine', 'polyuria'],\n",
    "    'behavioral': ['anxiety', 'mood swings', 'restlessness', 'lethargy', 'loss of appetite', 'malaise', 'dizziness', 'excessive hunger', 'depression', 'irritability', 'increased appetite', 'lack of concentration'],\n",
    "    'throat': ['patches in throat', 'swelled lymph nodes', 'throat irritation', 'neck pain', 'enlarged thyroid', 'stiff neck'],\n",
    "    'history': ['irregular sugar levels', 'family history', 'receiving blood transfusion', 'receiving unsterile injections', 'history of alcohol consumption'],\n",
    "    'nose': ['sinus pressure', 'runny nose', 'congestion', 'loss of smell', 'red sore around nose']\n",
    "}\n"
   ],
   "metadata": {
    "collapsed": false,
    "ExecuteTime": {
     "end_time": "2023-09-30T10:08:05.968030Z",
     "start_time": "2023-09-30T10:08:05.953508600Z"
    }
   },
   "id": "8ea97a300955e5dd"
  },
  {
   "cell_type": "code",
   "execution_count": 75,
   "outputs": [],
   "source": [
    "megali = []\n",
    "for item in list(related_symptoms.values()):\n",
    "    megali.extend(item)"
   ],
   "metadata": {
    "collapsed": false,
    "ExecuteTime": {
     "end_time": "2023-09-30T10:09:52.728419200Z",
     "start_time": "2023-09-30T10:09:52.710827500Z"
    }
   },
   "id": "bfbfcbba49cf4e80"
  },
  {
   "cell_type": "code",
   "execution_count": 76,
   "outputs": [],
   "source": [
    "for item in megali:\n",
    "    if item not in symptoms_li:\n",
    "        print(item)"
   ],
   "metadata": {
    "collapsed": false,
    "ExecuteTime": {
     "end_time": "2023-09-30T10:09:53.474521800Z",
     "start_time": "2023-09-30T10:09:53.451314700Z"
    }
   },
   "id": "3bc1b8603b1c88fd"
  },
  {
   "cell_type": "code",
   "execution_count": 72,
   "outputs": [],
   "source": [
    "symptoms_li[symptoms_li.index('irregular sugar level')] = 'irregular sugar levels'"
   ],
   "metadata": {
    "collapsed": false,
    "ExecuteTime": {
     "end_time": "2023-09-30T10:08:41.238055800Z",
     "start_time": "2023-09-30T10:08:41.218625400Z"
    }
   },
   "id": "c962bcc751c790e2"
  },
  {
   "cell_type": "code",
   "execution_count": 77,
   "outputs": [],
   "source": [
    "import pickle\n",
    "with open('../pickles/symptoms.pkl', 'wb') as fl:\n",
    "    pickle.dump(symptoms_li, fl)"
   ],
   "metadata": {
    "collapsed": false,
    "ExecuteTime": {
     "end_time": "2023-09-30T10:10:08.080929600Z",
     "start_time": "2023-09-30T10:10:08.033867100Z"
    }
   },
   "id": "4e7025c9746d4440"
  },
  {
   "cell_type": "code",
   "execution_count": 36,
   "outputs": [
    {
     "ename": "NameError",
     "evalue": "name 'cols' is not defined",
     "output_type": "error",
     "traceback": [
      "\u001B[1;31m---------------------------------------------------------------------------\u001B[0m",
      "\u001B[1;31mNameError\u001B[0m                                 Traceback (most recent call last)",
      "Cell \u001B[1;32mIn[36], line 1\u001B[0m\n\u001B[1;32m----> 1\u001B[0m \u001B[38;5;28;01mfor\u001B[39;00m idx, col \u001B[38;5;129;01min\u001B[39;00m \u001B[38;5;28menumerate\u001B[39m(\u001B[43mcols\u001B[49m):\n\u001B[0;32m      2\u001B[0m     curr_col \u001B[38;5;241m=\u001B[39m col\n\u001B[0;32m      3\u001B[0m     cols_curr \u001B[38;5;241m=\u001B[39m cols[idx:]\n",
      "\u001B[1;31mNameError\u001B[0m: name 'cols' is not defined"
     ]
    }
   ],
   "source": [
    "for idx, col in enumerate(cols):\n",
    "    curr_col = col\n",
    "    cols_curr = cols[idx:]\n",
    "    \n",
    "    isOppsite = True\n",
    "    for col in cols_curr:\n",
    "        k = 0\n",
    "        for i in range(len(data)):\n",
    "            if data[col][i] == data[curr_col][i]:\n",
    "                k += 1\n",
    "            if k >= 70:\n",
    "                isOppsite = False\n",
    "                break\n",
    "        if isOppsite:\n",
    "            print(curr_col, 'isOpposite:', col)\n"
   ],
   "metadata": {
    "collapsed": false,
    "ExecuteTime": {
     "end_time": "2023-09-30T10:02:24.071739300Z",
     "start_time": "2023-09-30T10:02:24.038330300Z"
    }
   },
   "id": "2fadee62afd19c7d"
  },
  {
   "cell_type": "code",
   "execution_count": 84,
   "outputs": [],
   "source": [
    "exp = []\n",
    "for i in range(data.shape[1]-2):\n",
    "    for j in range(i, data.shape[1]-2):\n",
    "        k = 0\n",
    "        li = list(data.iloc[:, i] == data.iloc[:, j])     \n",
    "        for l in li:\n",
    "            if not(l):\n",
    "                k += 1\n",
    "    exp.append(k)"
   ],
   "metadata": {
    "collapsed": false,
    "ExecuteTime": {
     "end_time": "2023-09-29T15:27:40.165705Z",
     "start_time": "2023-09-29T15:27:29.617826500Z"
    }
   },
   "id": "6efde6aaab0101fa"
  },
  {
   "cell_type": "code",
   "execution_count": 97,
   "outputs": [
    {
     "data": {
      "text/plain": "11"
     },
     "execution_count": 97,
     "metadata": {},
     "output_type": "execute_result"
    }
   ],
   "source": [
    "from functools import reduce\n",
    "int(len(list(filter(lambda x: True if x > 0 else False, exp)))**(1/2))"
   ],
   "metadata": {
    "collapsed": false,
    "ExecuteTime": {
     "end_time": "2023-09-29T15:32:04.728582600Z",
     "start_time": "2023-09-29T15:32:04.716877800Z"
    }
   },
   "id": "61aacdb213f34cdb"
  },
  {
   "cell_type": "code",
   "execution_count": 81,
   "outputs": [],
   "source": [
    "\n"
   ],
   "metadata": {
    "collapsed": false,
    "ExecuteTime": {
     "end_time": "2023-09-29T15:26:16.930988200Z",
     "start_time": "2023-09-29T15:26:16.924298400Z"
    }
   },
   "id": "61376ee4a77f75ff"
  },
  {
   "cell_type": "code",
   "execution_count": 80,
   "outputs": [
    {
     "name": "stdout",
     "output_type": "stream",
     "text": [
      "1368\n"
     ]
    }
   ],
   "source": [
    "# for i in range(data.shape[1]-2):\n"
   ],
   "metadata": {
    "collapsed": false,
    "ExecuteTime": {
     "end_time": "2023-09-29T15:22:56.765774Z",
     "start_time": "2023-09-29T15:22:56.753732100Z"
    }
   },
   "id": "ead7d2674ff7d795"
  },
  {
   "cell_type": "code",
   "execution_count": 101,
   "outputs": [],
   "source": [
    "with open('../pickles/exp_pickle.pkl', 'rb') as fl:\n",
    "    df = pickle.load(fl)"
   ],
   "metadata": {
    "collapsed": false,
    "ExecuteTime": {
     "end_time": "2023-09-30T10:49:37.300926900Z",
     "start_time": "2023-09-30T10:49:37.268007500Z"
    }
   },
   "id": "4e5d42ef42524dfc"
  },
  {
   "cell_type": "code",
   "execution_count": 102,
   "outputs": [
    {
     "data": {
      "text/plain": "array([['Typhoid', '0.10826274850888835'],\n       ['Drug Reaction', '0.08869009955619274'],\n       ['AIDS', '0.04920387958650415']], dtype=object)"
     },
     "execution_count": 102,
     "metadata": {},
     "output_type": "execute_result"
    }
   ],
   "source": [
    "df"
   ],
   "metadata": {
    "collapsed": false,
    "ExecuteTime": {
     "end_time": "2023-09-30T10:49:41.511722100Z",
     "start_time": "2023-09-30T10:49:41.488329500Z"
    }
   },
   "id": "4d8ce3ba1d899c92"
  },
  {
   "cell_type": "code",
   "execution_count": 86,
   "outputs": [],
   "source": [
    "import numpy as np\n",
    "arr = np.array([0, 0, 0, 1, 0, 0, 0, 0, 0, 0, 0, 0, 0, 0, 0, 0, 0, 0, 0, 0, 0, 0, 0, 0, 0, 0, 0, 1, 0, 0, 0, 0, 0, 0, 0, 0, 0, 0, 0, 0, 0, 0, 0, 0, 0, 0, 0, 0, 0, 0, 0, 0, 0, 0, 0, 0, 0, 0, 0, 0, 0, 0, 0, 0, 0, 0, 0, 0, 0, 0, 0, 0, 0, 0, 0, 0, 0, 0, 0, 0, 0, 0, 0, 0, 0, 0, 0, 0, 0, 0, 0, 0, 0, 0, 0, 0, 0, 0, 0, 0, 0, 0, 0, 0, 0, 0, 0, 0, 0, 0, 0, 0, 0, 0, 0, 0, 0, 0, 0, 0, 0, 0, 0, 0, 0, 0, 0, 0, 0, 0, 0, 0,])"
   ],
   "metadata": {
    "collapsed": false,
    "ExecuteTime": {
     "end_time": "2023-09-30T10:41:57.746781400Z",
     "start_time": "2023-09-30T10:41:57.730068Z"
    }
   },
   "id": "6b1edb1369ab91b6"
  },
  {
   "cell_type": "code",
   "execution_count": 87,
   "outputs": [
    {
     "data": {
      "text/plain": "2"
     },
     "execution_count": 87,
     "metadata": {},
     "output_type": "execute_result"
    }
   ],
   "source": [
    "len(np.argwhere(arr == 1))"
   ],
   "metadata": {
    "collapsed": false,
    "ExecuteTime": {
     "end_time": "2023-09-30T10:42:04.911339500Z",
     "start_time": "2023-09-30T10:42:04.746331400Z"
    }
   },
   "id": "4b56d88869397df2"
  },
  {
   "cell_type": "code",
   "execution_count": 90,
   "outputs": [],
   "source": [
    "data = pd.read_csv('../dataSet/Training.csv')"
   ],
   "metadata": {
    "collapsed": false,
    "ExecuteTime": {
     "end_time": "2023-09-30T10:42:50.118778700Z",
     "start_time": "2023-09-30T10:42:50.068611900Z"
    }
   },
   "id": "2d2675cf39aa60fc"
  },
  {
   "cell_type": "code",
   "execution_count": 94,
   "outputs": [],
   "source": [
    "meanLi = []\n",
    "for i in range(131):\n",
    "    arr = data.iloc[i, :]\n",
    "    meanLi.append(len(np.argwhere(arr == 1)))"
   ],
   "metadata": {
    "collapsed": false,
    "ExecuteTime": {
     "end_time": "2023-09-30T10:44:31.957241Z",
     "start_time": "2023-09-30T10:44:31.903430400Z"
    }
   },
   "id": "955daa526beccae7"
  },
  {
   "cell_type": "code",
   "execution_count": 95,
   "outputs": [
    {
     "data": {
      "text/plain": "4.969465648854962"
     },
     "execution_count": 95,
     "metadata": {},
     "output_type": "execute_result"
    }
   ],
   "source": [
    "np.array(meanLi).mean()"
   ],
   "metadata": {
    "collapsed": false,
    "ExecuteTime": {
     "end_time": "2023-09-30T10:44:41.487767600Z",
     "start_time": "2023-09-30T10:44:41.457129900Z"
    }
   },
   "id": "8606b5e6e88b3fee"
  },
  {
   "cell_type": "code",
   "execution_count": null,
   "outputs": [],
   "source": [],
   "metadata": {
    "collapsed": false
   },
   "id": "55797a8fa9927779"
  }
 ],
 "metadata": {
  "kernelspec": {
   "name": ".venv",
   "language": "python",
   "display_name": ".venv"
  },
  "language_info": {
   "codemirror_mode": {
    "name": "ipython",
    "version": 2
   },
   "file_extension": ".py",
   "mimetype": "text/x-python",
   "name": "python",
   "nbconvert_exporter": "python",
   "pygments_lexer": "ipython2",
   "version": "2.7.6"
  }
 },
 "nbformat": 4,
 "nbformat_minor": 5
}
